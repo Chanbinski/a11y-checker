{
 "cells": [
  {
   "cell_type": "markdown",
   "id": "fc7d8763-e2ab-4720-ad1f-9a92fae4772a",
   "metadata": {
    "execution": {
     "iopub.execute_input": "2025-04-10T07:36:17.992900Z",
     "iopub.status.busy": "2025-04-10T07:36:17.992583Z",
     "iopub.status.idle": "2025-04-10T07:36:18.000374Z",
     "shell.execute_reply": "2025-04-10T07:36:17.999057Z",
     "shell.execute_reply.started": "2025-04-10T07:36:17.992874Z"
    }
   },
   "source": [
    "<!-- Table 1 -->\n",
    "<table>\n",
    "  <thead>\n",
    "    <tr>\n",
    "      <th id=\"outside-header\">External Header</th>\n",
    "    </tr>\n",
    "  </thead>\n",
    "</table>\n",
    "\n",
    "<!-- Table 2 -->\n",
    "<table>\n",
    "  <thead>\n",
    "    <tr>\n",
    "      <th id=\"name-header\">Name</th>\n",
    "      <th id=\"age-header\">Age</th>\n",
    "    </tr>\n",
    "  </thead>\n",
    "  <tbody>\n",
    "    <tr>\n",
    "      <!-- Incorrectly referencing a header from Table 1 -->\n",
    "      <td headers=\"outside-header\">John Doe</td>\n",
    "      <td headers=\"age-header\">30</td>\n",
    "    </tr>\n",
    "  </tbody>\n",
    "</table>"
   ]
  },
  {
   "cell_type": "markdown",
   "id": "3efe671c-7c8f-45fe-ba66-d7356c15f6ec",
   "metadata": {},
   "source": [
    "<table>\n",
    "    <caption>Hey</caption>\n",
    "  <tr>\n",
    "  </tr>\n",
    "  <tr>\n",
    "    <td>Alfreds Futterkiste</td>\n",
    "    <td>Maria Anders</td>\n",
    "    <td>Germany</td>\n",
    "  </tr>\n",
    "  <tr>\n",
    "    <td>Centro comercial Moctezuma</td>\n",
    "    <td>Francisco Chang</td>\n",
    "    <td>Mexico</td>\n",
    "  </tr>\n",
    "</table>\n",
    "\n",
    "\n",
    "<table>\n",
    "  <tr>\n",
    "  </tr>\n",
    "  <tr>\n",
    "    <td>Alfreds Futterkiste</td>\n",
    "    <td>Maria Anders</td>\n",
    "    <td>Germany</td>\n",
    "  </tr>\n",
    "  <tr>\n",
    "    <td>Centro comercial Moctezuma</td>\n",
    "    <td>Francisco Chang</td>\n",
    "    <td>Mexico</td>\n",
    "  </tr>\n",
    "</table>"
   ]
  },
  {
   "cell_type": "code",
   "execution_count": null,
   "id": "20fa2a55-0430-4157-9275-230e69e686d7",
   "metadata": {},
   "outputs": [],
   "source": []
  }
 ],
 "metadata": {
  "kernelspec": {
   "display_name": "Python 3 (ipykernel)",
   "language": "python",
   "name": "python3"
  },
  "language_info": {
   "codemirror_mode": {
    "name": "ipython",
    "version": 3
   },
   "file_extension": ".py",
   "mimetype": "text/x-python",
   "name": "python",
   "nbconvert_exporter": "python",
   "pygments_lexer": "ipython3",
   "version": "3.12.9"
  }
 },
 "nbformat": 4,
 "nbformat_minor": 5
}
