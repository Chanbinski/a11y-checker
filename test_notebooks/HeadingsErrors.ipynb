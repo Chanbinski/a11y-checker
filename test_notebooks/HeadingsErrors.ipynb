{
 "cells": [
  {
   "cell_type": "markdown",
   "id": "b16f4610-b2a5-4e6d-af5a-6f6d654c8bbf",
   "metadata": {},
   "source": [
    "## heading 2"
   ]
  },
  {
   "cell_type": "markdown",
   "id": "76d62abc-31d9-48aa-afe8-695492755db4",
   "metadata": {
    "execution": {
     "iopub.execute_input": "2025-04-13T01:54:35.987431Z",
     "iopub.status.busy": "2025-04-13T01:54:35.987111Z",
     "iopub.status.idle": "2025-04-13T01:54:35.992376Z",
     "shell.execute_reply": "2025-04-13T01:54:35.991246Z",
     "shell.execute_reply.started": "2025-04-13T01:54:35.987406Z"
    }
   },
   "source": [
    "Issue: Notebook missing h1 header at the top axe core rule ID heading-order\t"
   ]
  },
  {
   "cell_type": "markdown",
   "id": "3e477f0c-632c-414f-9a07-69d04b8da6ee",
   "metadata": {},
   "source": [
    "#### heading 4"
   ]
  },
  {
   "cell_type": "markdown",
   "id": "4f0caef5-60d9-402b-8302-d6e629d73b46",
   "metadata": {},
   "source": [
    "Issue: decrease by more than one level axe core rule ID heading-order\t"
   ]
  },
  {
   "cell_type": "markdown",
   "id": "49cfc05c-d4b4-401d-a9d5-3723d9cb8f8e",
   "metadata": {},
   "source": [
    "## heading 2"
   ]
  },
  {
   "cell_type": "markdown",
   "id": "1980dc9e-bb34-4e7d-81d6-aca3364318fb",
   "metadata": {},
   "source": [
    "#### heading 4"
   ]
  },
  {
   "cell_type": "markdown",
   "id": "9a391eec-d9e5-46d3-b6fd-d714d2d7e99a",
   "metadata": {},
   "source": [
    "Issue: heading can't be higher level than first heading axe core rule ID heading-order\t"
   ]
  },
  {
   "cell_type": "markdown",
   "id": "40c64b4b-ec32-421c-b17a-df7ee1b51909",
   "metadata": {},
   "source": [
    "###### heading 6"
   ]
  },
  {
   "cell_type": "markdown",
   "id": "1415e6a6-9c6d-4eb4-b309-237611569048",
   "metadata": {},
   "source": [
    "Issue: heading can't jump more than one level axe core rule ID heading-order\t"
   ]
  },
  {
   "cell_type": "markdown",
   "id": "c70962a7-cbd8-45cb-b3ca-8dceb3849998",
   "metadata": {},
   "source": [
    "###"
   ]
  },
  {
   "cell_type": "markdown",
   "id": "161203ce-8c24-42f3-b3aa-5a6a5daeddf1",
   "metadata": {},
   "source": [
    "Issue: empty header above should error with axe core rule ID empty-heading\t"
   ]
  },
  {
   "cell_type": "markdown",
   "id": "d488d4d8-b989-44a8-bd36-c976f69b716e",
   "metadata": {},
   "source": [
    "#### "
   ]
  },
  {
   "cell_type": "markdown",
   "id": "3ed2ff70-ca37-4467-9ff3-b9efe797c8f2",
   "metadata": {},
   "source": [
    "Issue: another empty header"
   ]
  },
  {
   "cell_type": "markdown",
   "id": "76493a06-0b6e-4890-94f1-c7907ca594e4",
   "metadata": {},
   "source": []
  },
  {
   "cell_type": "markdown",
   "id": "6c56d84b-67bc-4779-8404-4e32c92f346a",
   "metadata": {},
   "source": [
    "<body>\n",
    "  <header>\n",
    "    <h2>Space Teddy Inc.</h2>\n",
    "  </header>\n",
    "  <nav aria-labelledby=\"mainnavheader\">\n",
    "    <h2 id=\"mainnavheader\">Navigation Menu</h2>\n",
    "    …\n",
    "  </nav>\n",
    "  <main>\n",
    "    <article>\n",
    "      <h2>An inside look at the new Space Teddy 6</h2>\n",
    "      <nav aria-labelledby=\"tocheader\">\n",
    "        <h3 id=\"tocheader\">Table of Contents</h3>\n",
    "        …\n",
    "      </nav>\n",
    "      <p>…</p>\n",
    "      <p>Duis aute irure dolor in reprehenderit in voluptate velit esse cillum dolore eu fugiat nulla pariatur. Excepteur sint occaecat cupidatat non proident, sunt in culpa qui officia deserunt mollit anim id est laborum.</p>\n",
    "      <p>…</p>\n",
    "      <ul>\n",
    "        <li>Lorem ipsum dolor sit amet, consectetur adipisicing elit, sed do eiusmod tempor incididunt ut labore et dolore magna aliqua.</li>\n",
    "        <li>Ut enim ad minim veniam, quis nostrud exercitation ullamco laboris nisi ut aliquip ex ea commodo consequat.</li>\n",
    "        <li>Duis aute irure dolor in reprehenderit in voluptate velit esse cillum dolore eu fugiat nulla pariatur.</li>\n",
    "      </ul>\n",
    "      <h3>Cotton Fur</h3>\n",
    "      <p>Lorem ipsum dolor sit amet, consectetur adipisicing elit, sed do eiusmod tempor incididunt ut labore et dolore magna aliqua.</p>\n",
    "      <p>…</p>\n",
    "      <aside aria-labelledby=\"relatedheader\">\n",
    "        <h3 id=\"relatedheader\">Related Articles</h3>\n",
    "        <ul>\n",
    "          <li><a href=\"#\">Related Article Title 1</a></li>\n",
    "          <li><a href=\"#\">Related Article Title 2</a></li>\n",
    "          <li><a href=\"#\">Related Article Title 3</a></li>\n",
    "        </ul>\n",
    "      </aside>\n",
    "    </article>\n",
    "    <aside aria-labelledby=\"latestheader\">\n",
    "      <h3 id=\"latestheader\">Latest Articles</h3>\n",
    "      <ul>\n",
    "        <li><a href=\"#\">Latest Article Title 1</a></li>\n",
    "        <li><a href=\"#\">Latest Article Title 2</a></li>\n",
    "        <li><a href=\"#\">Latest Article Title 3</a></li>\n",
    "      </ul>\n",
    "    </aside>\n",
    "  </main>\n",
    "  <footer>\n",
    "    <p>© SpaceTeddy Inc.</p>\n",
    "  </footer>\n",
    "</body>"
   ]
  },
  {
   "cell_type": "markdown",
   "id": "4d443e67-f720-430e-823f-60adcb39edf9",
   "metadata": {},
   "source": [
    "## Space Teddy Inc."
   ]
  },
  {
   "cell_type": "markdown",
   "id": "58d8bef9-3b80-459f-8d02-c6868d28daaa",
   "metadata": {},
   "source": [
    "## Navigation Menu"
   ]
  },
  {
   "cell_type": "markdown",
   "id": "bd4a77fc-9e57-4909-bade-afc58e0501d3",
   "metadata": {},
   "source": [
    "..."
   ]
  },
  {
   "cell_type": "markdown",
   "id": "7078c701-d264-49d5-9e03-6be4c2ddca7b",
   "metadata": {},
   "source": [
    "## An inside look at the new Space Teddy 6"
   ]
  },
  {
   "cell_type": "markdown",
   "id": "18a663f6-d469-4dfb-98c1-1785390477e2",
   "metadata": {},
   "source": [
    "### Table of Contents"
   ]
  },
  {
   "cell_type": "markdown",
   "id": "f01b1f9f-46cd-45d0-9b9c-dcf009bd347b",
   "metadata": {},
   "source": [
    "..."
   ]
  },
  {
   "cell_type": "markdown",
   "id": "3e79de96-e1ed-4df5-999e-ba3b2306a014",
   "metadata": {},
   "source": [
    "### Cotton Fur"
   ]
  },
  {
   "cell_type": "markdown",
   "id": "c2eff090-c40d-48fd-85b2-568785835c6d",
   "metadata": {},
   "source": [
    "## Valid Headings:"
   ]
  },
  {
   "cell_type": "markdown",
   "id": "f21fbec4-14d1-4aca-9ebc-2344c4ffd2f8",
   "metadata": {},
   "source": [
    "# Space Teddy"
   ]
  },
  {
   "cell_type": "markdown",
   "id": "c33b9462-6489-4416-817f-0a11755058d5",
   "metadata": {},
   "source": [
    "## Navigation Menu"
   ]
  },
  {
   "cell_type": "markdown",
   "id": "4dae03f1-c26f-417e-8639-3f2f35c25d0d",
   "metadata": {},
   "source": [
    "## Side bar"
   ]
  },
  {
   "cell_type": "markdown",
   "id": "3d287fce-20fb-4797-9523-55c51ed5f6e1",
   "metadata": {},
   "source": [
    "### More news"
   ]
  },
  {
   "cell_type": "markdown",
   "id": "0f3ec7b2-84f6-411a-b3d0-c01b376479b6",
   "metadata": {},
   "source": [
    "### What our clients say"
   ]
  },
  {
   "cell_type": "markdown",
   "id": "ddeab81c-79ff-4ecc-8257-7c2e9fb64538",
   "metadata": {},
   "source": [
    "### Ratings"
   ]
  },
  {
   "cell_type": "markdown",
   "id": "8f241553-c03d-48c8-aba9-dd43ec702773",
   "metadata": {},
   "source": [
    "## Inside look at..."
   ]
  },
  {
   "cell_type": "markdown",
   "id": "1f4fba4e-eb39-40ea-8a15-e0b638063855",
   "metadata": {},
   "source": [
    "### Cotton Fur"
   ]
  },
  {
   "cell_type": "markdown",
   "id": "6776a6d9-f483-4aad-b87e-a1ae372de0fa",
   "metadata": {},
   "source": [
    "### Sapphire Eyes"
   ]
  },
  {
   "cell_type": "markdown",
   "id": "f459a4a7-34aa-4816-a845-728149efaf8a",
   "metadata": {},
   "source": [
    "#### How they are produced"
   ]
  },
  {
   "cell_type": "markdown",
   "id": "40d5275a-4931-4976-bcf6-13437ab19dde",
   "metadata": {},
   "source": [
    "## Footer"
   ]
  },
  {
   "cell_type": "markdown",
   "id": "66c50cb9-becc-40ec-a92f-85d26a67600c",
   "metadata": {},
   "source": [
    "### About the company"
   ]
  },
  {
   "cell_type": "markdown",
   "id": "38b10540-cc2b-4708-9b6c-dfb9deee683e",
   "metadata": {},
   "source": [
    "### Our retail stores"
   ]
  },
  {
   "cell_type": "markdown",
   "id": "308691f8-8385-4cf7-9e2b-b43699275e9b",
   "metadata": {},
   "source": [
    "# Space Teddy"
   ]
  },
  {
   "cell_type": "markdown",
   "id": "c7610da1-b25e-42c5-9b7c-1855678dc80b",
   "metadata": {},
   "source": [
    "## invalid tests"
   ]
  },
  {
   "cell_type": "markdown",
   "id": "4fb2bf14-7d19-4c36-b1f9-7708e623884a",
   "metadata": {},
   "source": [
    "most cells below should be invald"
   ]
  },
  {
   "cell_type": "markdown",
   "id": "1f05e94b-1cd6-40d6-89c4-1577630af690",
   "metadata": {},
   "source": [
    "## heading 2"
   ]
  },
  {
   "cell_type": "markdown",
   "id": "212366cd-e5f0-4647-a36a-46bfc45c7077",
   "metadata": {
    "execution": {
     "iopub.execute_input": "2025-04-24T20:46:51.396003Z",
     "iopub.status.busy": "2025-04-24T20:46:51.395620Z",
     "iopub.status.idle": "2025-04-24T20:46:51.400192Z",
     "shell.execute_reply": "2025-04-24T20:46:51.399506Z",
     "shell.execute_reply.started": "2025-04-24T20:46:51.395974Z"
    }
   },
   "source": [
    "#### heading 4"
   ]
  },
  {
   "cell_type": "markdown",
   "id": "49451218-dcef-4172-a78c-ef9ff9adb726",
   "metadata": {},
   "source": [
    "Issue: h2 to h4 too big of a jmp"
   ]
  },
  {
   "cell_type": "markdown",
   "id": "2260d2cc-13d5-4e47-a14f-8d98b8653a98",
   "metadata": {},
   "source": [
    "###### heading 6"
   ]
  },
  {
   "cell_type": "markdown",
   "id": "9fb3b6c4-958b-42fc-bd1f-3c2ed2a3dd4b",
   "metadata": {},
   "source": [
    "Issue: h4 to h6 is too big"
   ]
  },
  {
   "cell_type": "markdown",
   "id": "1a24f747-1b14-4f06-9f19-cd51716fd142",
   "metadata": {},
   "source": [
    "### heading 3"
   ]
  },
  {
   "cell_type": "markdown",
   "id": "aab5fddb-eb0f-4fc1-9981-a8c4d2109ab7",
   "metadata": {},
   "source": [
    "Valid (closing out a subsection)"
   ]
  },
  {
   "cell_type": "markdown",
   "id": "7f44c135-0955-4ca4-8dcd-52e9ed43be0b",
   "metadata": {},
   "source": [
    "##### heading 5"
   ]
  },
  {
   "cell_type": "markdown",
   "id": "64a3f52d-7a4c-45d7-87b0-2f8fea4cdcd8",
   "metadata": {},
   "source": [
    "Issue: jump too big"
   ]
  },
  {
   "cell_type": "markdown",
   "id": "7af3ee2c-ffde-42d5-b01b-6ce0ac878466",
   "metadata": {},
   "source": [
    "## heading 2"
   ]
  },
  {
   "cell_type": "markdown",
   "id": "1bc12e1f-cbd9-47b1-b744-4f34ce706148",
   "metadata": {
    "execution": {
     "iopub.execute_input": "2025-04-24T20:56:51.505684Z",
     "iopub.status.busy": "2025-04-24T20:56:51.505369Z",
     "iopub.status.idle": "2025-04-24T20:56:51.511726Z",
     "shell.execute_reply": "2025-04-24T20:56:51.510130Z",
     "shell.execute_reply.started": "2025-04-24T20:56:51.505661Z"
    }
   },
   "source": [
    "Valid (closing out subsection)"
   ]
  },
  {
   "cell_type": "markdown",
   "id": "c324d6a7-5a2b-4351-82f3-2ff7c0d4edfe",
   "metadata": {},
   "source": [
    "### heading 3"
   ]
  },
  {
   "cell_type": "markdown",
   "id": "c34372c9-fd6f-4a7e-a988-ed030a676d7f",
   "metadata": {},
   "source": [
    "###### heading 6"
   ]
  },
  {
   "cell_type": "markdown",
   "id": "bc2837cc-65ad-4885-b68e-12cb253a7d4b",
   "metadata": {},
   "source": [
    "Issue: jump is too big"
   ]
  },
  {
   "cell_type": "markdown",
   "id": "0b4fe8b5-cde0-485f-a6dd-c8dafefac146",
   "metadata": {},
   "source": [
    "##### heading 5"
   ]
  },
  {
   "cell_type": "markdown",
   "id": "552262ea-8294-4715-a6ba-978a8b570d7f",
   "metadata": {},
   "source": [
    "## heading 2"
   ]
  },
  {
   "cell_type": "markdown",
   "id": "00ae2ee7-6659-4520-9e3c-9fb10487e99a",
   "metadata": {},
   "source": [
    "###### heading 6"
   ]
  },
  {
   "cell_type": "markdown",
   "id": "017c61b6-706f-42f6-963f-595956c35d82",
   "metadata": {},
   "source": [
    "Issue: jump too big"
   ]
  },
  {
   "cell_type": "markdown",
   "id": "ab4d67d2-54db-4392-9401-8815c86645c0",
   "metadata": {},
   "source": [
    "# heading 1"
   ]
  },
  {
   "cell_type": "markdown",
   "id": "bccd736a-258f-43a5-ba11-bda110140382",
   "metadata": {},
   "source": [
    "### heading 3 (Issue)"
   ]
  },
  {
   "cell_type": "markdown",
   "id": "8762ee08-c6fb-45c8-a89f-1b6f39b93192",
   "metadata": {},
   "source": [
    "##### heading 5 (Issue)"
   ]
  },
  {
   "cell_type": "markdown",
   "id": "bd0abdbe-02db-414f-99db-cf6ae81c87fe",
   "metadata": {},
   "source": [
    "## heading 2"
   ]
  },
  {
   "cell_type": "markdown",
   "id": "b9e44462-9793-4e42-b79b-37642e17630a",
   "metadata": {},
   "source": [
    "#### heading 4 (Issue)"
   ]
  },
  {
   "cell_type": "markdown",
   "id": "0290f3d9-cec4-4b52-a18b-18101eba936c",
   "metadata": {},
   "source": [
    "###### heading 6 (Issue)"
   ]
  },
  {
   "cell_type": "code",
   "execution_count": null,
   "id": "6e9d4471-b207-4268-9afd-1091dec21b7e",
   "metadata": {},
   "outputs": [],
   "source": []
  }
 ],
 "metadata": {
  "kernelspec": {
   "display_name": "Python 3 (ipykernel)",
   "language": "python",
   "name": "python3"
  },
  "language_info": {
   "codemirror_mode": {
    "name": "ipython",
    "version": 3
   },
   "file_extension": ".py",
   "mimetype": "text/x-python",
   "name": "python",
   "nbconvert_exporter": "python",
   "pygments_lexer": "ipython3",
   "version": "3.12.9"
  }
 },
 "nbformat": 4,
 "nbformat_minor": 5
}
