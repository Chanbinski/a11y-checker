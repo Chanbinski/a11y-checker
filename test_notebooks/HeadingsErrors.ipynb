{
 "cells": [
  {
   "cell_type": "markdown",
   "id": "b16f4610-b2a5-4e6d-af5a-6f6d654c8bbf",
   "metadata": {},
   "source": [
    "## h2"
   ]
  },
  {
   "cell_type": "markdown",
   "id": "76d62abc-31d9-48aa-afe8-695492755db4",
   "metadata": {
    "execution": {
     "iopub.execute_input": "2025-04-13T01:54:35.987431Z",
     "iopub.status.busy": "2025-04-13T01:54:35.987111Z",
     "iopub.status.idle": "2025-04-13T01:54:35.992376Z",
     "shell.execute_reply": "2025-04-13T01:54:35.991246Z",
     "shell.execute_reply.started": "2025-04-13T01:54:35.987406Z"
    }
   },
   "source": [
    "Issue: Notebook missing h1 header at the top axe core rule ID heading-order\t"
   ]
  },
  {
   "cell_type": "markdown",
   "id": "3e477f0c-632c-414f-9a07-69d04b8da6ee",
   "metadata": {},
   "source": [
    "## heading 4"
   ]
  },
  {
   "cell_type": "markdown",
   "id": "4f0caef5-60d9-402b-8302-d6e629d73b46",
   "metadata": {},
   "source": [
    "Issue: decrease by more than one level axe core rule ID heading-order\t"
   ]
  },
  {
   "cell_type": "markdown",
   "id": "49cfc05c-d4b4-401d-a9d5-3723d9cb8f8e",
   "metadata": {},
   "source": [
    "## heading 2"
   ]
  },
  {
   "cell_type": "markdown",
   "id": "1980dc9e-bb34-4e7d-81d6-aca3364318fb",
   "metadata": {},
   "source": [
    "### heading 5"
   ]
  },
  {
   "cell_type": "markdown",
   "id": "9a391eec-d9e5-46d3-b6fd-d714d2d7e99a",
   "metadata": {},
   "source": [
    "Issue: heading can't be higher level than first heading axe core rule ID heading-order\t"
   ]
  },
  {
   "cell_type": "markdown",
   "id": "40c64b4b-ec32-421c-b17a-df7ee1b51909",
   "metadata": {},
   "source": [
    "#### heading 4"
   ]
  },
  {
   "cell_type": "markdown",
   "id": "1415e6a6-9c6d-4eb4-b309-237611569048",
   "metadata": {},
   "source": [
    "Issue: heading can't jump more than one level axe core rule ID heading-order\t"
   ]
  },
  {
   "cell_type": "markdown",
   "id": "c70962a7-cbd8-45cb-b3ca-8dceb3849998",
   "metadata": {},
   "source": [
    "###"
   ]
  },
  {
   "cell_type": "markdown",
   "id": "161203ce-8c24-42f3-b3aa-5a6a5daeddf1",
   "metadata": {},
   "source": [
    "Issue: empty header above should error with axe core rule ID empty-heading\t"
   ]
  },
  {
   "cell_type": "markdown",
   "id": "d488d4d8-b989-44a8-bd36-c976f69b716e",
   "metadata": {},
   "source": [
    "#### "
   ]
  },
  {
   "cell_type": "markdown",
   "id": "3ed2ff70-ca37-4467-9ff3-b9efe797c8f2",
   "metadata": {},
   "source": [
    "Issue: another empty header"
   ]
  },
  {
   "cell_type": "markdown",
   "id": "76493a06-0b6e-4890-94f1-c7907ca594e4",
   "metadata": {},
   "source": []
  },
  {
   "cell_type": "markdown",
   "id": "6c56d84b-67bc-4779-8404-4e32c92f346a",
   "metadata": {},
   "source": [
    "<body>\n",
    "  <header>\n",
    "    <h2>Space Teddy Inc.</h2>\n",
    "  </header>\n",
    "  <nav aria-labelledby=\"mainnavheader\">\n",
    "    <h2 id=\"mainnavheader\">Navigation Menu</h2>\n",
    "    …\n",
    "  </nav>\n",
    "  <main>\n",
    "    <article>\n",
    "      <h2>An inside look at the new Space Teddy 6</h2>\n",
    "      <nav aria-labelledby=\"tocheader\">\n",
    "        <h3 id=\"tocheader\">Table of Contents</h3>\n",
    "        …\n",
    "      </nav>\n",
    "      <p>…</p>\n",
    "      <p>Duis aute irure dolor in reprehenderit in voluptate velit esse cillum dolore eu fugiat nulla pariatur. Excepteur sint occaecat cupidatat non proident, sunt in culpa qui officia deserunt mollit anim id est laborum.</p>\n",
    "      <p>…</p>\n",
    "      <ul>\n",
    "        <li>Lorem ipsum dolor sit amet, consectetur adipisicing elit, sed do eiusmod tempor incididunt ut labore et dolore magna aliqua.</li>\n",
    "        <li>Ut enim ad minim veniam, quis nostrud exercitation ullamco laboris nisi ut aliquip ex ea commodo consequat.</li>\n",
    "        <li>Duis aute irure dolor in reprehenderit in voluptate velit esse cillum dolore eu fugiat nulla pariatur.</li>\n",
    "      </ul>\n",
    "      <h3>Cotton Fur</h3>\n",
    "      <p>Lorem ipsum dolor sit amet, consectetur adipisicing elit, sed do eiusmod tempor incididunt ut labore et dolore magna aliqua.</p>\n",
    "      <p>…</p>\n",
    "      <aside aria-labelledby=\"relatedheader\">\n",
    "        <h3 id=\"relatedheader\">Related Articles</h3>\n",
    "        <ul>\n",
    "          <li><a href=\"#\">Related Article Title 1</a></li>\n",
    "          <li><a href=\"#\">Related Article Title 2</a></li>\n",
    "          <li><a href=\"#\">Related Article Title 3</a></li>\n",
    "        </ul>\n",
    "      </aside>\n",
    "    </article>\n",
    "    <aside aria-labelledby=\"latestheader\">\n",
    "      <h3 id=\"latestheader\">Latest Articles</h3>\n",
    "      <ul>\n",
    "        <li><a href=\"#\">Latest Article Title 1</a></li>\n",
    "        <li><a href=\"#\">Latest Article Title 2</a></li>\n",
    "        <li><a href=\"#\">Latest Article Title 3</a></li>\n",
    "      </ul>\n",
    "    </aside>\n",
    "  </main>\n",
    "  <footer>\n",
    "    <p>© SpaceTeddy Inc.</p>\n",
    "  </footer>\n",
    "</body>"
   ]
  },
  {
   "cell_type": "markdown",
   "id": "4d443e67-f720-430e-823f-60adcb39edf9",
   "metadata": {},
   "source": [
    "## Space Teddy Inc."
   ]
  },
  {
   "cell_type": "markdown",
   "id": "58d8bef9-3b80-459f-8d02-c6868d28daaa",
   "metadata": {},
   "source": [
    "## Navigation Menu"
   ]
  },
  {
   "cell_type": "markdown",
   "id": "bd4a77fc-9e57-4909-bade-afc58e0501d3",
   "metadata": {},
   "source": [
    "..."
   ]
  },
  {
   "cell_type": "markdown",
   "id": "7078c701-d264-49d5-9e03-6be4c2ddca7b",
   "metadata": {},
   "source": [
    "## An inside look at the new Space Teddy 6"
   ]
  },
  {
   "cell_type": "markdown",
   "id": "18a663f6-d469-4dfb-98c1-1785390477e2",
   "metadata": {},
   "source": [
    "### Table of Contents"
   ]
  },
  {
   "cell_type": "markdown",
   "id": "f01b1f9f-46cd-45d0-9b9c-dcf009bd347b",
   "metadata": {},
   "source": [
    "..."
   ]
  },
  {
   "cell_type": "markdown",
   "id": "3e79de96-e1ed-4df5-999e-ba3b2306a014",
   "metadata": {},
   "source": [
    "### Cotton Fur"
   ]
  },
  {
   "cell_type": "code",
   "execution_count": null,
   "id": "117f60b5-35f2-46fd-93b9-f93937db8568",
   "metadata": {},
   "outputs": [],
   "source": []
  }
 ],
 "metadata": {
  "kernelspec": {
   "display_name": "Python 3 (ipykernel)",
   "language": "python",
   "name": "python3"
  },
  "language_info": {
   "codemirror_mode": {
    "name": "ipython",
    "version": 3
   },
   "file_extension": ".py",
   "mimetype": "text/x-python",
   "name": "python",
   "nbconvert_exporter": "python",
   "pygments_lexer": "ipython3",
   "version": "3.13.2"
  }
 },
 "nbformat": 4,
 "nbformat_minor": 5
}
