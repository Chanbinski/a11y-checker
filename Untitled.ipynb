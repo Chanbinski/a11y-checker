{
 "cells": [
  {
   "cell_type": "markdown",
   "id": "3ea5a37d-8c8e-48c3-b62e-1d34686c4320",
   "metadata": {},
   "source": [
    "Image with no alt text (should error), axe core rule ID image-alt\t\n",
    "<img src=\"https://zumvet.com/blog/wp-content/uploads/2023/01/close-up-red-cat-with-green-eyes-looking-straight-towards-camera.jpg\" alt=\"\">"
   ]
  },
  {
   "cell_type": "code",
   "execution_count": null,
   "id": "9ac558f9-118d-4412-92dc-435cb6f16782",
   "metadata": {},
   "outputs": [],
   "source": []
  }
 ],
 "metadata": {
  "kernelspec": {
   "display_name": "Python 3 (ipykernel)",
   "language": "python",
   "name": "python3"
  },
  "language_info": {
   "codemirror_mode": {
    "name": "ipython",
    "version": 3
   },
   "file_extension": ".py",
   "mimetype": "text/x-python",
   "name": "python",
   "nbconvert_exporter": "python",
   "pygments_lexer": "ipython3",
   "version": "3.13.2"
  }
 },
 "nbformat": 4,
 "nbformat_minor": 5
}
